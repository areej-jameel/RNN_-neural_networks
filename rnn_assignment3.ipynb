{
  "nbformat": 4,
  "nbformat_minor": 0,
  "metadata": {
    "colab": {
      "name": "rnn_assignment3.ipynb",
      "provenance": [],
      "collapsed_sections": []
    },
    "kernelspec": {
      "name": "python3",
      "display_name": "Python 3"
    },
    "language_info": {
      "name": "python"
    },
    "accelerator": "GPU"
  },
  "cells": [
    {
      "cell_type": "code",
      "metadata": {
        "colab": {
          "base_uri": "https://localhost:8080/"
        },
        "id": "kPTIY-SeO-Iu",
        "outputId": "5a76560a-eda0-43a8-bf1e-ad1fa5e71085"
      },
      "source": [
        "!nvidia-smi"
      ],
      "execution_count": null,
      "outputs": [
        {
          "output_type": "stream",
          "name": "stdout",
          "text": [
            "Mon Nov  8 09:45:10 2021       \n",
            "+-----------------------------------------------------------------------------+\n",
            "| NVIDIA-SMI 495.44       Driver Version: 460.32.03    CUDA Version: 11.2     |\n",
            "|-------------------------------+----------------------+----------------------+\n",
            "| GPU  Name        Persistence-M| Bus-Id        Disp.A | Volatile Uncorr. ECC |\n",
            "| Fan  Temp  Perf  Pwr:Usage/Cap|         Memory-Usage | GPU-Util  Compute M. |\n",
            "|                               |                      |               MIG M. |\n",
            "|===============================+======================+======================|\n",
            "|   0  Tesla K80           Off  | 00000000:00:04.0 Off |                    0 |\n",
            "| N/A   68C    P8    31W / 149W |      0MiB / 11441MiB |      0%      Default |\n",
            "|                               |                      |                  N/A |\n",
            "+-------------------------------+----------------------+----------------------+\n",
            "                                                                               \n",
            "+-----------------------------------------------------------------------------+\n",
            "| Processes:                                                                  |\n",
            "|  GPU   GI   CI        PID   Type   Process name                  GPU Memory |\n",
            "|        ID   ID                                                   Usage      |\n",
            "|=============================================================================|\n",
            "|  No running processes found                                                 |\n",
            "+-----------------------------------------------------------------------------+\n"
          ]
        }
      ]
    },
    {
      "cell_type": "code",
      "metadata": {
        "id": "djx1A1PZNRLN"
      },
      "source": [
        "import torch\n",
        "from torch import nn\n",
        "import pandas as pd\n",
        "import numpy as np\n"
      ],
      "execution_count": null,
      "outputs": []
    },
    {
      "cell_type": "code",
      "metadata": {
        "id": "_KkuPlw5Nmpk"
      },
      "source": [
        "\n",
        "\n",
        "d=pd.read_csv(\"./dataset.csv\" , index_col=False)\n",
        "\n",
        "text= d[\"text\"].tolist()\n",
        "\n",
        "\n",
        "# Join all the sentences together \n",
        "chars = set(''.join(text))\n",
        "\n",
        "#  maps integers to the characters\n",
        "int2char = dict(enumerate(chars))\n",
        "char2int = {char: ind for ind, char in int2char.items()}"
      ],
      "execution_count": null,
      "outputs": []
    },
    {
      "cell_type": "code",
      "metadata": {
        "colab": {
          "base_uri": "https://localhost:8080/"
        },
        "id": "mjcqWw2ENsYX",
        "outputId": "843078d0-2696-49ea-c753-7da65955deb0"
      },
      "source": [
        "print(char2int)"
      ],
      "execution_count": null,
      "outputs": [
        {
          "output_type": "stream",
          "name": "stdout",
          "text": [
            "{'r': 0, 'l': 1, 'd': 2, 'u': 3, 'W': 4, 'h': 5, 't': 6, 'k': 7, 'E': 8, 'v': 9, 'n': 10, 'f': 11, 'y': 12, 'o': 13, 'g': 14, ' ': 15, 'i': 16, 's': 17, 'C': 18, 'e': 19, 'a': 20, 'G': 21, 'T': 22, 'c': 23, 'm': 24, 'w': 25}\n"
          ]
        }
      ]
    },
    {
      "cell_type": "code",
      "metadata": {
        "colab": {
          "base_uri": "https://localhost:8080/"
        },
        "id": "PKXlwwyAN2Sk",
        "outputId": "cd3ecc63-02fb-4e0a-d9e7-4076337316e9"
      },
      "source": [
        "maxlen = len(max(text, key=len))\n",
        "print(\"The longest string has {} characters\".format(maxlen))\n"
      ],
      "execution_count": null,
      "outputs": [
        {
          "output_type": "stream",
          "name": "stdout",
          "text": [
            "The longest string has 33 characters\n"
          ]
        }
      ]
    },
    {
      "cell_type": "code",
      "metadata": {
        "id": "6-ZF-ifdN56Z"
      },
      "source": [
        "# Padding\n",
        "for i in range(len(text)):\n",
        "    while len(text[i])<maxlen:\n",
        "        text[i] += ' '"
      ],
      "execution_count": null,
      "outputs": []
    },
    {
      "cell_type": "code",
      "metadata": {
        "colab": {
          "base_uri": "https://localhost:8080/"
        },
        "id": "bfQqGJ-gOCZF",
        "outputId": "0f083b18-a139-493c-df41-bc9ad2b7fbc2"
      },
      "source": [
        "# Creating lists  input and target sequences\n",
        "input_seq = []\n",
        "target_seq = []\n",
        "\n",
        "for i in range(len(text)):\n",
        "    # Remove last character \n",
        "    input_seq.append(text[i][:-1])\n",
        "    # Remove first character \n",
        "    target_seq.append(text[i][1:])\n",
        "    print(\"Input Sequence: {}\\nTarget Sequence: {}\".format(input_seq[i], target_seq[i]))"
      ],
      "execution_count": null,
      "outputs": [
        {
          "output_type": "stream",
          "name": "stdout",
          "text": [
            "Input Sequence: We drink coffee every morning   \n",
            "Target Sequence: e drink coffee every morning    \n",
            "Input Sequence:  how are you                    \n",
            "Target Sequence: how are you                     \n",
            "Input Sequence: They do not go to school tomorro\n",
            "Target Sequence: hey do not go to school tomorrow\n",
            "Input Sequence: Good night                      \n",
            "Target Sequence: ood night                       \n",
            "Input Sequence: Cats hate water                 \n",
            "Target Sequence: ats hate water                  \n",
            "Input Sequence: The train every morning         \n",
            "Target Sequence: he train every morning          \n",
            "Input Sequence: Every child likes an ice cream  \n",
            "Target Sequence: very child likes an ice cream   \n"
          ]
        }
      ]
    },
    {
      "cell_type": "code",
      "metadata": {
        "id": "8FLWxSc_OJSU"
      },
      "source": [
        "#1a\n",
        "for i in range(len(text)):\n",
        "    input_seq[i] = [char2int[character] for character in input_seq[i]]\n",
        "    target_seq[i] = [char2int[character] for character in target_seq[i]]"
      ],
      "execution_count": null,
      "outputs": []
    },
    {
      "cell_type": "code",
      "metadata": {
        "id": "sz1WXHcLOQSV"
      },
      "source": [
        "dict_size = len(char2int)\n",
        "seq_len = maxlen - 1\n",
        "batch_size = len(text)\n",
        "\n",
        "def one_hot_encode(sequence, dict_size, seq_len, batch_size):\n",
        "    # Creating a multi-dimensional array of zeros with the desired output shape\n",
        "    features = np.zeros((batch_size, seq_len, dict_size), dtype=np.float32)\n",
        "                     \n",
        "    for i in range(batch_size):\n",
        "        for u in range(seq_len):\n",
        "            features[i, u, sequence[i][u]] = 1\n",
        "    return features"
      ],
      "execution_count": null,
      "outputs": []
    },
    {
      "cell_type": "code",
      "metadata": {
        "colab": {
          "base_uri": "https://localhost:8080/"
        },
        "id": "sAmlbsq_OT-X",
        "outputId": "38bba968-e923-46d4-87b6-8f81c9d51a22"
      },
      "source": [
        "                                                 #*****\n",
        "input_seq = one_hot_encode(input_seq, dict_size, seq_len   , batch_size)\n",
        "print(\"Input shape: {} --> (Batch Size, Sequence Length, One-Hot Encoding Size)\".format(input_seq.shape))"
      ],
      "execution_count": null,
      "outputs": [
        {
          "output_type": "stream",
          "name": "stdout",
          "text": [
            "Input shape: (7, 32, 26) --> (Batch Size, Sequence Length, One-Hot Encoding Size)\n"
          ]
        }
      ]
    },
    {
      "cell_type": "code",
      "metadata": {
        "colab": {
          "base_uri": "https://localhost:8080/"
        },
        "id": "tB9LvB_YOYxz",
        "outputId": "e16c686b-797e-466a-beec-869488f5259d"
      },
      "source": [
        "\n",
        "is_cuda = torch.cuda.is_available()\n",
        "if is_cuda:\n",
        "    device = torch.device(\"cuda\")\n",
        "    print(\"GPU is available\")\n",
        "else:\n",
        "    device = torch.device(\"cpu\")\n",
        "    print(\"GPU not available, CPU used\")"
      ],
      "execution_count": null,
      "outputs": [
        {
          "output_type": "stream",
          "name": "stdout",
          "text": [
            "GPU is available\n"
          ]
        }
      ]
    },
    {
      "cell_type": "code",
      "metadata": {
        "id": "LdI13C9mPHx6"
      },
      "source": [
        "class Model(nn.Module):\n",
        "    def __init__(self, input_size, output_size, hidden_dim, n_layers):\n",
        "        super(Model, self).__init__()\n",
        "\n",
        "        #  parameters\n",
        "        self.hidden_dim = hidden_dim\n",
        "        self.n_layers = n_layers\n",
        "\n",
        "        #Defining the layers\n",
        "        # RNN Layer\n",
        "        self.rnn = nn.RNN(input_size, hidden_dim, n_layers, batch_first=True)\n",
        "        self.rnn1 = nn.RNN(hidden_dim, hidden_dim, n_layers, batch_first=True) \n",
        "        self.rnn2 = nn.RNN(hidden_dim, hidden_dim, n_layers, batch_first=True)    \n",
        "       \n",
        "        self.fc = nn.Linear(hidden_dim, output_size)\n",
        "    \n",
        "    def forward(self, x):\n",
        "        \n",
        "        batch_size = x.size(0)\n",
        "\n",
        "        \n",
        "        hidden = self.init_hidden(batch_size)\n",
        "\n",
        "        out, hidden = self.rnn(x, hidden)\n",
        "        out, hidden = self.rnn2(out, hidden)\n",
        "        out, hidden = self.rnn1(out, hidden)\n",
        "        \n",
        "        \n",
        "        out = out.contiguous().view(-1, self.hidden_dim)\n",
        "        out = self.fc(out)\n",
        "        \n",
        "        return out, hidden\n",
        "    \n",
        "    def init_hidden(self, batch_size):\n",
        "\n",
        "        hidden = torch.zeros(self.n_layers, batch_size, self.hidden_dim).to(device)\n",
        "       \n",
        "        return hidden"
      ],
      "execution_count": null,
      "outputs": []
    },
    {
      "cell_type": "code",
      "metadata": {
        "id": "nfPeDTYEPMlI"
      },
      "source": [
        "# Instantiate the model with hyperparameters\n",
        "model = Model(input_size=dict_size, output_size=dict_size, hidden_dim=12, n_layers=1)\n",
        "\n",
        "model = model.to(device)\n",
        "#  hyperparameters\n",
        "n_epochs = 400\n",
        "lr=0.01\n",
        "\n",
        "#  Loss, Optimizer\n",
        "criterion = nn.CrossEntropyLoss()\n",
        "optimizer = torch.optim.Adam(model.parameters(), lr=lr)"
      ],
      "execution_count": null,
      "outputs": []
    },
    {
      "cell_type": "code",
      "metadata": {
        "id": "_v-ZgArhPv0I"
      },
      "source": [
        "input_seq = torch.from_numpy(input_seq)\n",
        "target_seq = torch.Tensor(target_seq)"
      ],
      "execution_count": null,
      "outputs": []
    },
    {
      "cell_type": "code",
      "metadata": {
        "colab": {
          "base_uri": "https://localhost:8080/"
        },
        "id": "08VfOElzPdDT",
        "outputId": "e47b749d-2b96-46f9-c776-76c7d6363a6b"
      },
      "source": [
        "# Training Run\n",
        "input_seq = input_seq.to(device)\n",
        "for epoch in range(1, n_epochs + 1):\n",
        "    optimizer.zero_grad() \n",
        "    output, hidden = model(input_seq)\n",
        "    output = output.to(device)\n",
        "    target_seq = target_seq.to(device)\n",
        "    loss = criterion(output, target_seq.view(-1).long())\n",
        "    loss.backward() \n",
        "    optimizer.step() \n",
        "    \n",
        "    if epoch%10 == 0:\n",
        "        print('Epoch: {}/{}....'.format(epoch, n_epochs), end=' ')\n",
        "        print(\"Loss: {:.4f}\".format(loss.item()))"
      ],
      "execution_count": null,
      "outputs": [
        {
          "output_type": "stream",
          "name": "stdout",
          "text": [
            "Epoch: 10/400.... Loss: 2.3584\n",
            "Epoch: 20/400.... Loss: 2.2342\n",
            "Epoch: 30/400.... Loss: 2.1715\n",
            "Epoch: 40/400.... Loss: 2.0661\n",
            "Epoch: 50/400.... Loss: 1.8646\n",
            "Epoch: 60/400.... Loss: 1.6490\n",
            "Epoch: 70/400.... Loss: 1.4699\n",
            "Epoch: 80/400.... Loss: 1.3203\n",
            "Epoch: 90/400.... Loss: 1.1740\n",
            "Epoch: 100/400.... Loss: 1.0559\n",
            "Epoch: 110/400.... Loss: 0.9331\n",
            "Epoch: 120/400.... Loss: 0.8206\n",
            "Epoch: 130/400.... Loss: 0.7312\n",
            "Epoch: 140/400.... Loss: 0.6525\n",
            "Epoch: 150/400.... Loss: 0.5834\n",
            "Epoch: 160/400.... Loss: 0.5122\n",
            "Epoch: 170/400.... Loss: 0.4478\n",
            "Epoch: 180/400.... Loss: 0.3952\n",
            "Epoch: 190/400.... Loss: 0.3514\n",
            "Epoch: 200/400.... Loss: 0.3137\n",
            "Epoch: 210/400.... Loss: 0.2802\n",
            "Epoch: 220/400.... Loss: 0.2512\n",
            "Epoch: 230/400.... Loss: 0.2256\n",
            "Epoch: 240/400.... Loss: 0.2029\n",
            "Epoch: 250/400.... Loss: 0.1839\n",
            "Epoch: 260/400.... Loss: 0.1738\n",
            "Epoch: 270/400.... Loss: 0.2177\n",
            "Epoch: 280/400.... Loss: 0.1723\n",
            "Epoch: 290/400.... Loss: 0.1406\n",
            "Epoch: 300/400.... Loss: 0.1223\n",
            "Epoch: 310/400.... Loss: 0.1096\n",
            "Epoch: 320/400.... Loss: 0.1007\n",
            "Epoch: 330/400.... Loss: 0.0936\n",
            "Epoch: 340/400.... Loss: 0.0871\n",
            "Epoch: 350/400.... Loss: 0.0814\n",
            "Epoch: 360/400.... Loss: 0.0776\n",
            "Epoch: 370/400.... Loss: 0.0745\n",
            "Epoch: 380/400.... Loss: 0.0718\n",
            "Epoch: 390/400.... Loss: 0.0695\n",
            "Epoch: 400/400.... Loss: 0.0675\n"
          ]
        }
      ]
    },
    {
      "cell_type": "code",
      "metadata": {
        "id": "YvjnQj2HP096"
      },
      "source": [
        "def predict(model, character):\n",
        "    character = np.array([[char2int[c] for c in character]])\n",
        "    character = one_hot_encode(character, dict_size, character.shape[1], 1)\n",
        "    character = torch.from_numpy(character)\n",
        "    character = character.to(device)\n",
        "    \n",
        "    out, hidden = model(character)\n",
        "\n",
        "    prob = nn.functional.softmax(out[-1], dim=0).data\n",
        "   \n",
        "    char_ind = torch.max(prob, dim=0)[1].item()\n",
        "\n",
        "    return int2char[char_ind], hidden\n"
      ],
      "execution_count": null,
      "outputs": []
    },
    {
      "cell_type": "code",
      "metadata": {
        "id": "fWCrCttJP4n6"
      },
      "source": [
        "def sample(model, out_len, start='hey'):\n",
        "    model.eval() \n",
        "    start = start.lower()\n",
        "    \n",
        "    chars = [ch for ch in start]\n",
        "    size = out_len - len(chars)\n",
        "    \n",
        "    for ii in range(size):\n",
        "        char, h = predict(model, chars)\n",
        "        chars.append(char)\n",
        "\n",
        "    return ''.join(chars)"
      ],
      "execution_count": null,
      "outputs": []
    },
    {
      "cell_type": "code",
      "metadata": {
        "colab": {
          "base_uri": "https://localhost:8080/",
          "height": 35
        },
        "id": "niTRSUvfP8HP",
        "outputId": "9e60f686-c003-47eb-a7d5-7f38c13654c8"
      },
      "source": [
        "sample(model, 10, 'drink')"
      ],
      "execution_count": null,
      "outputs": [
        {
          "output_type": "execute_result",
          "data": {
            "application/vnd.google.colaboratory.intrinsic+json": {
              "type": "string"
            },
            "text/plain": [
              "'drink coff'"
            ]
          },
          "metadata": {},
          "execution_count": 23
        }
      ]
    }
  ]
}